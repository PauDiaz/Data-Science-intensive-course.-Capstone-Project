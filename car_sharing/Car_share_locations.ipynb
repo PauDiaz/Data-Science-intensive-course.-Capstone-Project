{
 "cells": [
  {
   "cell_type": "markdown",
   "metadata": {},
   "source": [
    "# Car Share Locations data preparation\n",
    "\n",
    "This script wrangles data regarding the ZIP-car sharing locations in DC. The data is taken as CSV files from:\n",
    "\n",
    "LINK: http://opendata.dc.gov/datasets/efad2a2696164d2db65e6c16d426939e_95\n",
    "\n",
    "After taking the desired data the script exports the dataframe as a new CSV file.\n",
    "\n",
    "Some info about the raw data:\n",
    "\n",
    "**Car Sharing locations**. The dataset contains locations and attributes of car sharing locations, created as part of the District of Columbia, Department of Transportation (DDOT) Street Spatial Database (SSD). The points are the general locations where the Car Sharing (Zip Car) currently exist. A database provided by the District of Columbia, Department of Transportation identified Car sharing locations All DC GIS data is stored and exported in Maryland State Plane coordinates NAD 83 meters. METADATA CONTENT IS IN PROCESS OF VALIDATION AND SUBJECT TO CHANGE."
   ]
  },
  {
   "cell_type": "code",
   "execution_count": 2,
   "metadata": {
    "collapsed": true
   },
   "outputs": [],
   "source": [
    "import pandas as pd\n",
    "import numpy as np\n"
   ]
  },
  {
   "cell_type": "code",
   "execution_count": 3,
   "metadata": {
    "collapsed": false
   },
   "outputs": [
    {
     "data": {
      "text/html": [
       "<div style=\"max-height:1000px;max-width:1500px;overflow:auto;\">\n",
       "<table border=\"1\" class=\"dataframe\">\n",
       "  <thead>\n",
       "    <tr style=\"text-align: right;\">\n",
       "      <th></th>\n",
       "      <th>﻿X</th>\n",
       "      <th>Y</th>\n",
       "      <th>OBJECTID</th>\n",
       "      <th>X</th>\n",
       "      <th>Y.1</th>\n",
       "      <th>WARD</th>\n",
       "      <th>SPACENUM</th>\n",
       "      <th>ZIPCARID</th>\n",
       "      <th>LOCATION</th>\n",
       "      <th>LANDMARK</th>\n",
       "      <th>ADDRESS</th>\n",
       "      <th>STATUS</th>\n",
       "      <th>VENDOR</th>\n",
       "    </tr>\n",
       "  </thead>\n",
       "  <tbody>\n",
       "    <tr>\n",
       "      <th>0</th>\n",
       "      <td>-76.989199</td>\n",
       "      <td> 38.866149</td>\n",
       "      <td> 1</td>\n",
       "      <td> 400937.581127</td>\n",
       "      <td> 133146.808513</td>\n",
       "      <td> 8</td>\n",
       "      <td> 81</td>\n",
       "      <td> 0881MLK</td>\n",
       "      <td> On V St b/t MLK Jr Ave &amp; Shannon Pl</td>\n",
       "      <td> In MLK professional development; b/t 2041 and ...</td>\n",
       "      <td> 2050 - 2124 BLOCK OF MARTIN LUTHER KING JR AVE...</td>\n",
       "      <td> 1</td>\n",
       "      <td> Zipcar</td>\n",
       "    </tr>\n",
       "  </tbody>\n",
       "</table>\n",
       "</div>"
      ],
      "text/plain": [
       "          ﻿X          Y  OBJECTID              X            Y.1  WARD  \\\n",
       "0 -76.989199  38.866149         1  400937.581127  133146.808513     8   \n",
       "\n",
       "   SPACENUM ZIPCARID                             LOCATION  \\\n",
       "0        81  0881MLK  On V St b/t MLK Jr Ave & Shannon Pl   \n",
       "\n",
       "                                            LANDMARK  \\\n",
       "0  In MLK professional development; b/t 2041 and ...   \n",
       "\n",
       "                                             ADDRESS  STATUS  VENDOR  \n",
       "0  2050 - 2124 BLOCK OF MARTIN LUTHER KING JR AVE...       1  Zipcar  "
      ]
     },
     "execution_count": 3,
     "metadata": {},
     "output_type": "execute_result"
    }
   ],
   "source": [
    "car_share_loc_df = pd.read_csv('Car_Share_Locations.csv',sep=',')\n",
    "car_share_loc_df.head(1)\n"
   ]
  },
  {
   "cell_type": "markdown",
   "metadata": {},
   "source": [
    "Let's check if there are **null values** in this data set:"
   ]
  },
  {
   "cell_type": "code",
   "execution_count": 4,
   "metadata": {
    "collapsed": false
   },
   "outputs": [
    {
     "data": {
      "text/plain": [
       "(83, 83)"
      ]
     },
     "execution_count": 4,
     "metadata": {},
     "output_type": "execute_result"
    }
   ],
   "source": [
    "len(car_share_loc_df[car_share_loc_df.notnull()]), len(car_share_loc_df)"
   ]
  },
  {
   "cell_type": "markdown",
   "metadata": {},
   "source": [
    "The Car_Share_Locations.csv data file does not contain NaN values. \n",
    "\n",
    "We proceed by picking up the columns that we are interested in:"
   ]
  },
  {
   "cell_type": "code",
   "execution_count": 6,
   "metadata": {
    "collapsed": false
   },
   "outputs": [
    {
     "data": {
      "text/html": [
       "<div style=\"max-height:1000px;max-width:1500px;overflow:auto;\">\n",
       "<table border=\"1\" class=\"dataframe\">\n",
       "  <thead>\n",
       "    <tr style=\"text-align: right;\">\n",
       "      <th></th>\n",
       "      <th>ZIPCARID</th>\n",
       "      <th>ADDRESS</th>\n",
       "      <th>Y</th>\n",
       "      <th>﻿X</th>\n",
       "    </tr>\n",
       "  </thead>\n",
       "  <tbody>\n",
       "    <tr>\n",
       "      <th>0</th>\n",
       "      <td>  0881MLK</td>\n",
       "      <td> 2050 - 2124 BLOCK OF MARTIN LUTHER KING JR AVE...</td>\n",
       "      <td> 38.866149</td>\n",
       "      <td>-76.989199</td>\n",
       "    </tr>\n",
       "    <tr>\n",
       "      <th>1</th>\n",
       "      <td>  0882MLK</td>\n",
       "      <td> 2050 - 2124 BLOCK OF MARTIN LUTHER KING JR AVE...</td>\n",
       "      <td> 38.865427</td>\n",
       "      <td>-76.989523</td>\n",
       "    </tr>\n",
       "    <tr>\n",
       "      <th>2</th>\n",
       "      <td> 0883ELMI</td>\n",
       "      <td>                                1 Elmira Street SE</td>\n",
       "      <td> 38.826070</td>\n",
       "      <td>-77.007311</td>\n",
       "    </tr>\n",
       "    <tr>\n",
       "      <th>3</th>\n",
       "      <td> 0884ELMI</td>\n",
       "      <td>                               1/2Elmira Street SE</td>\n",
       "      <td> 38.826058</td>\n",
       "      <td>-77.006879</td>\n",
       "    </tr>\n",
       "    <tr>\n",
       "      <th>4</th>\n",
       "      <td> 065914TH</td>\n",
       "      <td>                                902 14th Street SE</td>\n",
       "      <td> 38.879982</td>\n",
       "      <td>-76.985510</td>\n",
       "    </tr>\n",
       "  </tbody>\n",
       "</table>\n",
       "</div>"
      ],
      "text/plain": [
       "   ZIPCARID                                            ADDRESS          Y  \\\n",
       "0   0881MLK  2050 - 2124 BLOCK OF MARTIN LUTHER KING JR AVE...  38.866149   \n",
       "1   0882MLK  2050 - 2124 BLOCK OF MARTIN LUTHER KING JR AVE...  38.865427   \n",
       "2  0883ELMI                                 1 Elmira Street SE  38.826070   \n",
       "3  0884ELMI                                1/2Elmira Street SE  38.826058   \n",
       "4  065914TH                                 902 14th Street SE  38.879982   \n",
       "\n",
       "          ﻿X  \n",
       "0 -76.989199  \n",
       "1 -76.989523  \n",
       "2 -77.007311  \n",
       "3 -77.006879  \n",
       "4 -76.985510  "
      ]
     },
     "execution_count": 6,
     "metadata": {},
     "output_type": "execute_result"
    }
   ],
   "source": [
    "car_share_loc_df=car_share_loc_df[['ZIPCARID','ADDRESS','Y','\\xef\\xbb\\xbfX']]\n",
    "car_share_loc_df.head()"
   ]
  },
  {
   "cell_type": "markdown",
   "metadata": {},
   "source": [
    "For clarity and consistency with the others data sets, X and Y are set as Longitude and Latitude variables.\n",
    "* X = Longitude\n",
    "* Y = Latitude"
   ]
  },
  {
   "cell_type": "code",
   "execution_count": 7,
   "metadata": {
    "collapsed": true
   },
   "outputs": [],
   "source": [
    "#   CAR SHARE LOCATIONS\n",
    "car_share_loc_df['Text']=car_share_loc_df['ADDRESS'] + '. ZIP car ID: ' +  car_share_loc_df['ZIPCARID']\n",
    "car_share_loc_df=car_share_loc_df.rename(columns={'\\xef\\xbb\\xbfX': 'Longitude', 'Y': 'Latitude'})\n",
    "#car_share_loc_df.head()"
   ]
  },
  {
   "cell_type": "markdown",
   "metadata": {},
   "source": [
    "Finally, the dataframe is exported as a CSV file"
   ]
  },
  {
   "cell_type": "code",
   "execution_count": 5,
   "metadata": {
    "collapsed": true
   },
   "outputs": [],
   "source": [
    "car_share_loc_df.to_csv('car_share_locations', sep=',')"
   ]
  }
 ],
 "metadata": {
  "kernelspec": {
   "display_name": "Python 2",
   "language": "python",
   "name": "python2"
  },
  "language_info": {
   "codemirror_mode": {
    "name": "ipython",
    "version": 2
   },
   "file_extension": ".py",
   "mimetype": "text/x-python",
   "name": "python",
   "nbconvert_exporter": "python",
   "pygments_lexer": "ipython2",
   "version": "2.7.10"
  }
 },
 "nbformat": 4,
 "nbformat_minor": 0
}
