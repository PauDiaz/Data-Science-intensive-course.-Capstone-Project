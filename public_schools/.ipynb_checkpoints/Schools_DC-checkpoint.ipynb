{
 "cells": [
  {
   "cell_type": "markdown",
   "metadata": {},
   "source": [
    "# PLot in map all the available public schools, elementary schools, colleges and ..."
   ]
  },
  {
   "cell_type": "code",
   "execution_count": 1,
   "metadata": {
    "collapsed": true
   },
   "outputs": [],
   "source": [
    "import pandas as pd\n",
    "import numpy as np\n"
   ]
  },
  {
   "cell_type": "markdown",
   "metadata": {},
   "source": [
    "To get information about the data visit: \n",
    "\n",
    "http://geospatial.dcgis.dc.gov/dc_kmz/metadata/PubSchPt.html\n",
    "\n",
    "\n",
    "Citation_Information:\n",
    "\n",
    "* Originator: Public Schools\n",
    "* Publication_Date: 2013-11-22\n",
    "* Title: Public School\n",
    "* Geospatial_Data_Presentation_Form: vector digital data\n",
    "* ublication_Information:\n",
    "* Publisher: DC GIS"
   ]
  },
  {
   "cell_type": "code",
   "execution_count": 2,
   "metadata": {
    "collapsed": true
   },
   "outputs": [],
   "source": [
    "public_schools_df= pd.read_csv('Public_Schools.csv',sep=',')\n"
   ]
  },
  {
   "cell_type": "code",
   "execution_count": 3,
   "metadata": {
    "collapsed": false
   },
   "outputs": [
    {
     "data": {
      "text/plain": [
       "Elementary School                72\n",
       "Middle School                    17\n",
       "High School                       9\n",
       "Youth Engagement                  7\n",
       "High School/Specialized           5\n",
       "Education Campus                  4\n",
       "Elementary School/Specialized     2\n",
       "Arts Center                       2\n",
       "Special Education                 1\n",
       "High School//Specialized          1\n",
       "dtype: int64"
      ]
     },
     "execution_count": 3,
     "metadata": {},
     "output_type": "execute_result"
    }
   ],
   "source": [
    "public_schools_df.FACUSE.value_counts()"
   ]
  },
  {
   "cell_type": "code",
   "execution_count": 4,
   "metadata": {
    "collapsed": false
   },
   "outputs": [],
   "source": [
    "public_schools_df=public_schools_df[['NAME','FACUSE','STATUS','LONGITUDE','LATITUDE']]"
   ]
  },
  {
   "cell_type": "code",
   "execution_count": 5,
   "metadata": {
    "collapsed": false
   },
   "outputs": [
    {
     "data": {
      "text/html": [
       "<div style=\"max-height:1000px;max-width:1500px;overflow:auto;\">\n",
       "<table border=\"1\" class=\"dataframe\">\n",
       "  <thead>\n",
       "    <tr style=\"text-align: right;\">\n",
       "      <th></th>\n",
       "      <th>NAME</th>\n",
       "      <th>FACUSE</th>\n",
       "      <th>STATUS</th>\n",
       "      <th>LONGITUDE</th>\n",
       "      <th>LATITUDE</th>\n",
       "    </tr>\n",
       "  </thead>\n",
       "  <tbody>\n",
       "    <tr>\n",
       "      <th>0</th>\n",
       "      <td>                   Kelly Miller Middle School</td>\n",
       "      <td>     Middle School</td>\n",
       "      <td> Active</td>\n",
       "      <td>-76.932455</td>\n",
       "      <td> 38.893315</td>\n",
       "    </tr>\n",
       "    <tr>\n",
       "      <th>1</th>\n",
       "      <td>   Bruce-Monroe Elementary School @ Park View</td>\n",
       "      <td> Elementary School</td>\n",
       "      <td> Active</td>\n",
       "      <td>-77.021186</td>\n",
       "      <td> 38.934414</td>\n",
       "    </tr>\n",
       "    <tr>\n",
       "      <th>2</th>\n",
       "      <td>                      Payne Elementary School</td>\n",
       "      <td> Elementary School</td>\n",
       "      <td> Active</td>\n",
       "      <td>-76.984984</td>\n",
       "      <td> 38.885171</td>\n",
       "    </tr>\n",
       "    <tr>\n",
       "      <th>3</th>\n",
       "      <td>                     Tubman Elementary School</td>\n",
       "      <td> Elementary School</td>\n",
       "      <td> Active</td>\n",
       "      <td>-77.029443</td>\n",
       "      <td> 38.929199</td>\n",
       "    </tr>\n",
       "    <tr>\n",
       "      <th>4</th>\n",
       "      <td> Columbia Heights Education Campus 6–8 (CHEC)</td>\n",
       "      <td>     Middle School</td>\n",
       "      <td> Active</td>\n",
       "      <td>-77.035858</td>\n",
       "      <td> 38.929545</td>\n",
       "    </tr>\n",
       "  </tbody>\n",
       "</table>\n",
       "</div>"
      ],
      "text/plain": [
       "                                           NAME             FACUSE  STATUS  \\\n",
       "0                    Kelly Miller Middle School      Middle School  Active   \n",
       "1    Bruce-Monroe Elementary School @ Park View  Elementary School  Active   \n",
       "2                       Payne Elementary School  Elementary School  Active   \n",
       "3                      Tubman Elementary School  Elementary School  Active   \n",
       "4  Columbia Heights Education Campus 6–8 (CHEC)      Middle School  Active   \n",
       "\n",
       "   LONGITUDE   LATITUDE  \n",
       "0 -76.932455  38.893315  \n",
       "1 -77.021186  38.934414  \n",
       "2 -76.984984  38.885171  \n",
       "3 -77.029443  38.929199  \n",
       "4 -77.035858  38.929545  "
      ]
     },
     "execution_count": 5,
     "metadata": {},
     "output_type": "execute_result"
    }
   ],
   "source": [
    "public_schools_df.head()"
   ]
  },
  {
   "cell_type": "code",
   "execution_count": 5,
   "metadata": {
    "collapsed": true
   },
   "outputs": [],
   "source": []
  },
  {
   "cell_type": "markdown",
   "metadata": {},
   "source": [
    "For clarity and consistency with the others data sets, X and Y are set as Longitude and Latitude variables.\n",
    "* LONGITUDE = Longitude\n",
    "* LATITUDE = Latitude"
   ]
  },
  {
   "cell_type": "code",
   "execution_count": 7,
   "metadata": {
    "collapsed": false
   },
   "outputs": [
    {
     "data": {
      "text/html": [
       "<div style=\"max-height:1000px;max-width:1500px;overflow:auto;\">\n",
       "<table border=\"1\" class=\"dataframe\">\n",
       "  <thead>\n",
       "    <tr style=\"text-align: right;\">\n",
       "      <th></th>\n",
       "      <th>NAME</th>\n",
       "      <th>FACUSE</th>\n",
       "      <th>STATUS</th>\n",
       "      <th>Longitude</th>\n",
       "      <th>Latitude</th>\n",
       "      <th>Text</th>\n",
       "    </tr>\n",
       "  </thead>\n",
       "  <tbody>\n",
       "    <tr>\n",
       "      <th>0</th>\n",
       "      <td> Kelly Miller Middle School</td>\n",
       "      <td> Middle School</td>\n",
       "      <td> Active</td>\n",
       "      <td>-76.932455</td>\n",
       "      <td> 38.893315</td>\n",
       "      <td> Kelly Miller Middle School. Middle School (Act...</td>\n",
       "    </tr>\n",
       "  </tbody>\n",
       "</table>\n",
       "</div>"
      ],
      "text/plain": [
       "                         NAME         FACUSE  STATUS  Longitude   Latitude  \\\n",
       "0  Kelly Miller Middle School  Middle School  Active -76.932455  38.893315   \n",
       "\n",
       "                                                Text  \n",
       "0  Kelly Miller Middle School. Middle School (Act...  "
      ]
     },
     "execution_count": 7,
     "metadata": {},
     "output_type": "execute_result"
    }
   ],
   "source": [
    "#   PUBLIC SCHOOLS\n",
    "public_schools_df['Text']= public_schools_df['NAME']+ '. '+ public_schools_df['FACUSE']+' ('+ public_schools_df['STATUS']+')'\n",
    "public_schools_df=public_schools_df.rename(columns={'LONGITUDE': 'Longitude', 'LATITUDE': 'Latitude'})\n",
    "public_schools_df.head(1)\n",
    "\n"
   ]
  },
  {
   "cell_type": "code",
   "execution_count": null,
   "metadata": {
    "collapsed": true
   },
   "outputs": [],
   "source": [
    "public_schools_df.to_csv('Public_schools_coordinates.csv',sep=',')"
   ]
  },
  {
   "cell_type": "code",
   "execution_count": null,
   "metadata": {
    "collapsed": true
   },
   "outputs": [],
   "source": []
  }
 ],
 "metadata": {
  "kernelspec": {
   "display_name": "Python 2",
   "language": "python",
   "name": "python2"
  },
  "language_info": {
   "codemirror_mode": {
    "name": "ipython",
    "version": 2
   },
   "file_extension": ".py",
   "mimetype": "text/x-python",
   "name": "python",
   "nbconvert_exporter": "python",
   "pygments_lexer": "ipython2",
   "version": "2.7.9"
  }
 },
 "nbformat": 4,
 "nbformat_minor": 0
}
