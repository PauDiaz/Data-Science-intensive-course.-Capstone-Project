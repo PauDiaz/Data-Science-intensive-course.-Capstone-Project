{
 "cells": [
  {
   "cell_type": "markdown",
   "metadata": {},
   "source": [
    "##Scraping data interacting with a web application\n",
    "\n",
    "I am interested in temperatures per day for a given city. There is an application web site that provides that info: \n",
    "\n",
    "http://www.wunderground.com/history/\n",
    "\n",
    "\n",
    "One can go to the web page and handle it manually to get the data...but what happens if what you want is collecting the mean temperatures for each of the 365 days of 2011 (for instance)? are you gonna repeat manually the process 365 times? It is an unhealthy dicision. Let's see what we can do.\n",
    "\n",
    "\n",
    "The process of taking data from a web site is known as \"scrapping\". One can scrap data from a URL in different ways. However, sometimes we  are forced to interact with the web site and that fact reduces the number of options. We find cases like these on a browser application in which the user must to specify the parameters of the search. At this respect, two of the available options are:\n",
    "* **tuning the URL**: we can use a for loop or similar to fit the URL with the parameters of the search.\n",
    "* **Mechanize library**. This library allows the user to automatize the process of interaction with the web app.\n",
    "\n",
    "I will use the second option as seems to be more fancy and useful for future works. However it has limitations: the forms must be labeled in order to be used with this library. More info about the problem related with the no labeled forms in the hereunder link.\n",
    "\n",
    "http://stackoverflow.com/questions/27486361/mechanizer-in-python-selecting-form-field-with-no-name\n",
    "\n",
    "\n",
    "###Mechanize \n"
   ]
  },
  {
   "cell_type": "code",
   "execution_count": 98,
   "metadata": {
    "collapsed": false
   },
   "outputs": [],
   "source": [
    "# Mechanize\n",
    "import mechanize\n",
    "# Opener and parseresponse\n",
    "from mechanize._opener import urlopen\n",
    "from mechanize._form import ParseResponse\n",
    "# import beautifulsoup\n",
    "from bs4 import BeautifulSoup\n",
    "# import os\n",
    "import os"
   ]
  },
  {
   "cell_type": "code",
   "execution_count": 99,
   "metadata": {
    "collapsed": false
   },
   "outputs": [],
   "source": [
    "br = mechanize.Browser()\n",
    "url = \"http://www.wunderground.com/history/\""
   ]
  },
  {
   "cell_type": "markdown",
   "metadata": {},
   "source": [
    "Get Forms:"
   ]
  },
  {
   "cell_type": "code",
   "execution_count": 100,
   "metadata": {
    "collapsed": true
   },
   "outputs": [],
   "source": [
    "request = mechanize.Request(url)\n",
    "response = mechanize.urlopen(request)"
   ]
  },
  {
   "cell_type": "markdown",
   "metadata": {},
   "source": [
    "Parse forms:"
   ]
  },
  {
   "cell_type": "code",
   "execution_count": 101,
   "metadata": {
    "collapsed": true
   },
   "outputs": [],
   "source": [
    "forms = mechanize.ParseResponse(response, backwards_compat=False)"
   ]
  },
  {
   "cell_type": "markdown",
   "metadata": {},
   "source": [
    "How many forms do we have?\n"
   ]
  },
  {
   "cell_type": "code",
   "execution_count": 64,
   "metadata": {
    "collapsed": false
   },
   "outputs": [
    {
     "name": "stdout",
     "output_type": "stream",
     "text": [
      "5\n"
     ]
    }
   ],
   "source": [
    "print len(forms) # there are 5 forms"
   ]
  },
  {
   "cell_type": "markdown",
   "metadata": {},
   "source": [
    "Check each form and pick the one you need:"
   ]
  },
  {
   "cell_type": "code",
   "execution_count": 65,
   "metadata": {
    "collapsed": false
   },
   "outputs": [
    {
     "name": "stdout",
     "output_type": "stream",
     "text": [
      "<GET http://www.wunderground.com/cgi-bin/findweather/getForecast application/x-www-form-urlencoded\n",
      "  <HiddenControl(airportorwmo=query) (readonly)>\n",
      "  <HiddenControl(historytype=DailyHistory) (readonly)>\n",
      "  <HiddenControl(backurl=/history/index.html) (readonly)>\n",
      "  <TextControl(code=)>\n",
      "  <SelectControl(month=[1, 2, 3, 4, 5, 6, 7, 8, 9, *10, 11, 12])>\n",
      "  <SelectControl(day=[1, 2, 3, 4, 5, 6, 7, 8, 9, 10, 11, 12, 13, 14, 15, 16, 17, 18, 19, 20, 21, 22, 23, 24, 25, 26, 27, 28, 29, *30, 31])>\n",
      "  <SelectControl(year=[*2015, 2014, 2013, 2012, 2011, 2010, 2009, 2008, 2007, 2006, 2005, 2004, 2003, 2002, 2001, 2000, 1999, 1998, 1997, 1996, 1995, 1994, 1993, 1992, 1991, 1990, 1989, 1988, 1987, 1986, 1985, 1984, 1983, 1982, 1981, 1980, 1979, 1978, 1977, 1976, 1975, 1974, 1973, 1972, 1971, 1970, 1969, 1968, 1967, 1966, 1965, 1964, 1963, 1962, 1961, 1960, 1959, 1958, 1957, 1956, 1955, 1954, 1953, 1952, 1951, 1950, 1949, 1948, 1947, 1946, 1945])>\n",
      "  <SubmitControl(<None>=Submit) (readonly)>>\n"
     ]
    }
   ],
   "source": [
    "print forms[4]"
   ]
  },
  {
   "cell_type": "markdown",
   "metadata": {},
   "source": [
    "You can select by name (it works when form has a name):\n",
    "\n",
    "* br.select_form(\"form1\") "
   ]
  },
  {
   "cell_type": "markdown",
   "metadata": {},
   "source": [
    "* Or by index when form is unnamed: br.form = forms[4] "
   ]
  },
  {
   "cell_type": "code",
   "execution_count": 102,
   "metadata": {
    "collapsed": true
   },
   "outputs": [],
   "source": [
    "br.form = forms[4]  "
   ]
  },
  {
   "cell_type": "markdown",
   "metadata": {},
   "source": [
    "Our object:"
   ]
  },
  {
   "cell_type": "code",
   "execution_count": 103,
   "metadata": {
    "collapsed": false
   },
   "outputs": [
    {
     "data": {
      "text/plain": [
       "<mechanize._form.HTMLForm instance at 0x10ba12d40>"
      ]
     },
     "execution_count": 103,
     "metadata": {},
     "output_type": "execute_result"
    }
   ],
   "source": [
    "br.form "
   ]
  },
  {
   "cell_type": "code",
   "execution_count": 82,
   "metadata": {
    "collapsed": false
   },
   "outputs": [],
   "source": [
    "# Specify the form options\n",
    "\n",
    "LOCATION = \"Washington, District of Columbia\" \n",
    "DAY = ['3'] # A list, not a string\n",
    "MONTH = ['1',] # Ibid\n",
    "YEAR = ['2011',] # Ibid \n",
    " \n",
    "# input options into the form\n",
    "br.form[\"code\"] = LOCATION\n",
    "br.form[\"month\"] = MONTH\n",
    "br.form[\"day\"] = DAY\n",
    "br.form[\"year\"] = YEAR"
   ]
  },
  {
   "cell_type": "code",
   "execution_count": 83,
   "metadata": {
    "collapsed": false
   },
   "outputs": [],
   "source": [
    "# submit the form\n",
    "page = urlopen(br.form.click()).read () \n",
    " \n",
    "# BS4 the response\n",
    "soup = BeautifulSoup(page, \"html.parser\")"
   ]
  },
  {
   "cell_type": "markdown",
   "metadata": {},
   "source": [
    "We can then proceed as usual by finding the table containing the data of interest:"
   ]
  },
  {
   "cell_type": "code",
   "execution_count": 84,
   "metadata": {
    "collapsed": true
   },
   "outputs": [],
   "source": [
    "table = soup.find('table',{'id':'historyTable'})\n",
    "\n",
    "\n",
    "temperatures=[]\n",
    "\n",
    "def get_temperatures():\n",
    "    data=[]\n",
    "    children = table.findChildren()\n",
    "    for child in children:\n",
    "        data.append(child.text)\n",
    "    Mean_temperature=(data[data.index(\"Mean Temperature\")+2].split()[0])\n",
    "    \n",
    "    return Mean_temperature\n",
    "\n",
    "temperatures.append(get_temperatures())"
   ]
  },
  {
   "cell_type": "code",
   "execution_count": 85,
   "metadata": {
    "collapsed": false
   },
   "outputs": [
    {
     "data": {
      "text/plain": [
       "[u'2']"
      ]
     },
     "execution_count": 85,
     "metadata": {},
     "output_type": "execute_result"
    }
   ],
   "source": [
    "temperatures"
   ]
  },
  {
   "cell_type": "markdown",
   "metadata": {},
   "source": [
    "Yeah! We have a list with one of the temperatures and I spent around 2 days to code this...hope it will help \n",
    "you!\n",
    "\n",
    "Now we want the whole list of temperatures. Let's do this:"
   ]
  },
  {
   "cell_type": "code",
   "execution_count": null,
   "metadata": {
    "collapsed": true
   },
   "outputs": [],
   "source": []
  },
  {
   "cell_type": "code",
   "execution_count": 120,
   "metadata": {
    "collapsed": false
   },
   "outputs": [],
   "source": [
    "def Build_temperature_date_df():\n",
    "    '''returns a single dataframe with all the temperatures per day'''\n",
    "    \n",
    "    Days=['1', '2', '3', '4', '5', '6', '7', '8', '9', '10', '11', '12', '13', '14',\n",
    "          '15', '16', '17', '18', '19', '20', '21', '22', '23', '24', '25', '26',\n",
    "          '27', '28', '29', '30', '31']\n",
    "      \n",
    "    Months=['1', '2', '3', '4', '5', '6', '7', '8', '9', '10', '11', '12']\n",
    "    \n",
    "    Years= ['2011','2012','2013']\n",
    "    \n",
    "    LOCATION = \"Washington, District of Columbia\" \n",
    "    \n",
    "    #Empty list where to put the mean temperatures per day\n",
    "    temperatures=[]\n",
    "    #Empty list where to put the dates\n",
    "    dates=[]\n",
    "    \n",
    "    for year in Years:\n",
    "        YEAR = [str(year),]         # YEAR = ['2011',] # Ibid \n",
    "        for month in months:       \n",
    "            MONTH = [str(month),]   #MONTH = ['1',] # Ibid\n",
    "            for day in Days:\n",
    "                DAY=[str(day),]      #DAY = [Days[0],] # A list, not a string\n",
    "                \n",
    "                # input options into the form\n",
    "                br.form[\"code\"] = LOCATION\n",
    "                br.form[\"month\"] = MONTH\n",
    "                br.form[\"day\"] = DAY\n",
    "                br.form[\"year\"] = YEAR\n",
    "                \n",
    "                # submit the form\n",
    "                page = urlopen(br.form.click()).read () \n",
    " \n",
    "                # BS4 the response\n",
    "                soup = BeautifulSoup(page, \"html.parser\")\n",
    "            \n",
    "                table = soup.find('table',{'id':'historyTable'})\n",
    "\n",
    "\n",
    "                \n",
    "\n",
    "                def get_temperatures():\n",
    "                    data=[]\n",
    "                    children = table.findChildren()\n",
    "                    for child in children:\n",
    "                        try:\n",
    "                            data.append(child.text)\n",
    "                            Mean_temperature=(data[data.index(\"Mean Temperature\")+2].split()[0])\n",
    "                            if Mean_temperature=='':\n",
    "                                return 'NaN'\n",
    "                            else:\n",
    "                                return int(Mean_temperature)\n",
    "                        except:\n",
    "                            continue\n",
    "\n",
    "                temperatures.append(get_temperatures())\n",
    "                dates.append(str(year)+'-'+str(month)+'-'+str(day))\n",
    "     \n",
    "    temp_date_df=pd.DataFrame({'Date':dates, 'temperatures in C':temperatures})\n",
    "    return temp_date_df                       \n",
    "                                "
   ]
  },
  {
   "cell_type": "code",
   "execution_count": null,
   "metadata": {
    "collapsed": true
   },
   "outputs": [],
   "source": []
  },
  {
   "cell_type": "code",
   "execution_count": 121,
   "metadata": {
    "collapsed": false
   },
   "outputs": [],
   "source": [
    "Temperature_date_df=Build_temperature_date_df()"
   ]
  },
  {
   "cell_type": "code",
   "execution_count": 122,
   "metadata": {
    "collapsed": false
   },
   "outputs": [
    {
     "data": {
      "text/html": [
       "<div style=\"max-height:1000px;max-width:1500px;overflow:auto;\">\n",
       "<table border=\"1\" class=\"dataframe\">\n",
       "  <thead>\n",
       "    <tr style=\"text-align: right;\">\n",
       "      <th></th>\n",
       "      <th>Date</th>\n",
       "      <th>temperatures in C</th>\n",
       "    </tr>\n",
       "  </thead>\n",
       "  <tbody>\n",
       "    <tr>\n",
       "      <th>0</th>\n",
       "      <td> 2011-1-1</td>\n",
       "      <td> 8</td>\n",
       "    </tr>\n",
       "    <tr>\n",
       "      <th>1</th>\n",
       "      <td> 2011-1-2</td>\n",
       "      <td> 8</td>\n",
       "    </tr>\n",
       "    <tr>\n",
       "      <th>2</th>\n",
       "      <td> 2011-1-3</td>\n",
       "      <td> 2</td>\n",
       "    </tr>\n",
       "    <tr>\n",
       "      <th>3</th>\n",
       "      <td> 2011-1-4</td>\n",
       "      <td> 1</td>\n",
       "    </tr>\n",
       "    <tr>\n",
       "      <th>4</th>\n",
       "      <td> 2011-1-5</td>\n",
       "      <td> 3</td>\n",
       "    </tr>\n",
       "  </tbody>\n",
       "</table>\n",
       "</div>"
      ],
      "text/plain": [
       "       Date  temperatures in C\n",
       "0  2011-1-1                  8\n",
       "1  2011-1-2                  8\n",
       "2  2011-1-3                  2\n",
       "3  2011-1-4                  1\n",
       "4  2011-1-5                  3"
      ]
     },
     "execution_count": 122,
     "metadata": {},
     "output_type": "execute_result"
    }
   ],
   "source": [
    "Temperature_date_df.head()"
   ]
  },
  {
   "cell_type": "markdown",
   "metadata": {},
   "source": [
    "NOTE: There are 21 fake dates as the web site jumps from **February 28th** to **March 1st** while the script takes that temperature as the one registered at **February 29**  November.\n",
    "\n",
    "Let's fix it:"
   ]
  },
  {
   "cell_type": "code",
   "execution_count": 133,
   "metadata": {
    "collapsed": false
   },
   "outputs": [
    {
     "data": {
      "text/plain": [
       "20"
      ]
     },
     "execution_count": 133,
     "metadata": {},
     "output_type": "execute_result"
    }
   ],
   "source": [
    "fakes=['2011-2-29','2011-2-30','2011-2-31', '2011-4-31','2011-6-31','2011-9-31','2011-11-31',\n",
    "       '2012-2-30','2012-2-31', '2012-4-31','2012-6-31','2012-9-31','2012-11-31',\n",
    "       '2013-2-29','2013-2-30','2013-2-31', '2013-4-31','2013-6-31','2013-9-31','2013-11-31']\n",
    "len(fakes)\n",
    "       "
   ]
  },
  {
   "cell_type": "code",
   "execution_count": 134,
   "metadata": {
    "collapsed": true
   },
   "outputs": [],
   "source": [
    "Temperature_date_df=Temperature_date_df.dropna()     #drop all rows that have any NaN values\n",
    "\n",
    "for dates in fakes:\n",
    "    Temperature_date_df=Temperature_date_df[Temperature_date_df.Date.str.contains(dates) == False]"
   ]
  },
  {
   "cell_type": "code",
   "execution_count": 138,
   "metadata": {
    "collapsed": false
   },
   "outputs": [
    {
     "data": {
      "text/plain": [
       "1096"
      ]
     },
     "execution_count": 138,
     "metadata": {},
     "output_type": "execute_result"
    }
   ],
   "source": [
    "len(Temperature_date_df)\n"
   ]
  },
  {
   "cell_type": "markdown",
   "metadata": {
    "collapsed": false
   },
   "source": [
    "**FIXED!!!!**\n",
    "\n",
    "365+366+365 = 1096"
   ]
  },
  {
   "cell_type": "code",
   "execution_count": 137,
   "metadata": {
    "collapsed": false
   },
   "outputs": [
    {
     "data": {
      "text/html": [
       "<div style=\"max-height:1000px;max-width:1500px;overflow:auto;\">\n",
       "<table border=\"1\" class=\"dataframe\">\n",
       "  <thead>\n",
       "    <tr style=\"text-align: right;\">\n",
       "      <th></th>\n",
       "      <th>temperatures in C</th>\n",
       "    </tr>\n",
       "    <tr>\n",
       "      <th>Date</th>\n",
       "      <th></th>\n",
       "    </tr>\n",
       "  </thead>\n",
       "  <tbody>\n",
       "    <tr>\n",
       "      <th>2011-1-1</th>\n",
       "      <td> 8</td>\n",
       "    </tr>\n",
       "    <tr>\n",
       "      <th>2011-1-2</th>\n",
       "      <td> 8</td>\n",
       "    </tr>\n",
       "    <tr>\n",
       "      <th>2011-1-3</th>\n",
       "      <td> 2</td>\n",
       "    </tr>\n",
       "    <tr>\n",
       "      <th>2011-1-4</th>\n",
       "      <td> 1</td>\n",
       "    </tr>\n",
       "    <tr>\n",
       "      <th>2011-1-5</th>\n",
       "      <td> 3</td>\n",
       "    </tr>\n",
       "  </tbody>\n",
       "</table>\n",
       "</div>"
      ],
      "text/plain": [
       "          temperatures in C\n",
       "Date                       \n",
       "2011-1-1                  8\n",
       "2011-1-2                  8\n",
       "2011-1-3                  2\n",
       "2011-1-4                  1\n",
       "2011-1-5                  3"
      ]
     },
     "execution_count": 137,
     "metadata": {},
     "output_type": "execute_result"
    }
   ],
   "source": [
    "Temperature_date_df.set_index('Date').head()"
   ]
  },
  {
   "cell_type": "markdown",
   "metadata": {},
   "source": [
    "Finally the dataframe is exported as a CSV file."
   ]
  },
  {
   "cell_type": "code",
   "execution_count": 139,
   "metadata": {
    "collapsed": false
   },
   "outputs": [],
   "source": [
    "Temperature_date_df.dropna().to_csv('temp_day', sep=',')\n",
    " "
   ]
  }
 ],
 "metadata": {
  "kernelspec": {
   "display_name": "Python 2",
   "language": "python",
   "name": "python2"
  },
  "language_info": {
   "codemirror_mode": {
    "name": "ipython",
    "version": 2
   },
   "file_extension": ".py",
   "mimetype": "text/x-python",
   "name": "python",
   "nbconvert_exporter": "python",
   "pygments_lexer": "ipython2",
   "version": "2.7.10"
  }
 },
 "nbformat": 4,
 "nbformat_minor": 0
}
