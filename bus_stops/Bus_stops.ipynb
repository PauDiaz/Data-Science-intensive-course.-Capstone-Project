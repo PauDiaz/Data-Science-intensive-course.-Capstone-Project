{
 "cells": [
  {
   "cell_type": "markdown",
   "metadata": {},
   "source": [
    "# Bus data preparation"
   ]
  },
  {
   "cell_type": "code",
   "execution_count": 1,
   "metadata": {
    "collapsed": true
   },
   "outputs": [],
   "source": [
    "import pandas as pd\n",
    "import numpy as np\n"
   ]
  },
  {
   "cell_type": "markdown",
   "metadata": {},
   "source": []
  },
  {
   "cell_type": "code",
   "execution_count": 3,
   "metadata": {
    "collapsed": false
   },
   "outputs": [
    {
     "data": {
      "text/html": [
       "<div style=\"max-height:1000px;max-width:1500px;overflow:auto;\">\n",
       "<table border=\"1\" class=\"dataframe\">\n",
       "  <thead>\n",
       "    <tr style=\"text-align: right;\">\n",
       "      <th></th>\n",
       "      <th>﻿X</th>\n",
       "      <th>Y</th>\n",
       "      <th>OBJECTID</th>\n",
       "      <th>LATITUDE</th>\n",
       "      <th>LONGITUDE</th>\n",
       "      <th>ROUTES</th>\n",
       "    </tr>\n",
       "  </thead>\n",
       "  <tbody>\n",
       "    <tr>\n",
       "      <th>10766</th>\n",
       "      <td>-76.955346</td>\n",
       "      <td> 38.951954</td>\n",
       "      <td> 10369</td>\n",
       "      <td> 38.951954</td>\n",
       "      <td>-76.955346</td>\n",
       "      <td>      86</td>\n",
       "    </tr>\n",
       "    <tr>\n",
       "      <th>10767</th>\n",
       "      <td>-77.169099</td>\n",
       "      <td> 38.598694</td>\n",
       "      <td>  9628</td>\n",
       "      <td> 38.598694</td>\n",
       "      <td>-77.169099</td>\n",
       "      <td>     W19</td>\n",
       "    </tr>\n",
       "    <tr>\n",
       "      <th>10768</th>\n",
       "      <td>-76.953121</td>\n",
       "      <td> 38.954511</td>\n",
       "      <td> 10370</td>\n",
       "      <td> 38.954511</td>\n",
       "      <td>-76.953121</td>\n",
       "      <td>      F8</td>\n",
       "    </tr>\n",
       "    <tr>\n",
       "      <th>10769</th>\n",
       "      <td>-77.157619</td>\n",
       "      <td> 38.600797</td>\n",
       "      <td>  9629</td>\n",
       "      <td> 38.600797</td>\n",
       "      <td>-77.157619</td>\n",
       "      <td>     W19</td>\n",
       "    </tr>\n",
       "    <tr>\n",
       "      <th>10770</th>\n",
       "      <td>-76.956040</td>\n",
       "      <td> 38.949919</td>\n",
       "      <td> 10371</td>\n",
       "      <td> 38.949919</td>\n",
       "      <td>-76.956040</td>\n",
       "      <td> 86,86V2</td>\n",
       "    </tr>\n",
       "  </tbody>\n",
       "</table>\n",
       "</div>"
      ],
      "text/plain": [
       "              ﻿X          Y  OBJECTID   LATITUDE  LONGITUDE   ROUTES\n",
       "10766 -76.955346  38.951954     10369  38.951954 -76.955346       86\n",
       "10767 -77.169099  38.598694      9628  38.598694 -77.169099      W19\n",
       "10768 -76.953121  38.954511     10370  38.954511 -76.953121       F8\n",
       "10769 -77.157619  38.600797      9629  38.600797 -77.157619      W19\n",
       "10770 -76.956040  38.949919     10371  38.949919 -76.956040  86,86V2"
      ]
     },
     "execution_count": 3,
     "metadata": {},
     "output_type": "execute_result"
    }
   ],
   "source": [
    "Bus_df= pd.read_csv('DC_Circulator_Stops.csv',sep=',')\n",
    "Bus2_df= pd.read_csv('Metro_Bus_Stops.csv',sep=',')\n",
    "\n",
    "Bus2_df.tail()"
   ]
  },
  {
   "cell_type": "code",
   "execution_count": 7,
   "metadata": {
    "collapsed": false
   },
   "outputs": [],
   "source": [
    "Bus_stops_df=Bus_df[['LINE','STOP','Y','\\xef\\xbb\\xbfX']]\n",
    "Bus2_stops_df=Bus2_df[['ROUTES','LONGITUDE','LATITUDE','OBJECTID']]"
   ]
  },
  {
   "cell_type": "markdown",
   "metadata": {},
   "source": [
    "For clarity and consistency with the others data sets, X and Y are set as Longitude and Latitude variables.\n",
    "* X and LONGITUDE = Longitude\n",
    "* Y and LATITUDE = Latitude"
   ]
  },
  {
   "cell_type": "code",
   "execution_count": 13,
   "metadata": {
    "collapsed": false
   },
   "outputs": [],
   "source": [
    "#   BUS1 STOPS CIRCULATOR\n",
    "Bus_stops_df['Text']=Bus_stops_df['STOP'] + '. Line: ' +  Bus_stops_df['LINE']\n",
    "Bus_stops_df=Bus_stops_df.rename(columns={'\\xef\\xbb\\xbfX': 'Longitude', 'Y': 'Latitude'})\n",
    "\n",
    "#   BUS2 STOPS METRO-BUS\n",
    "Bus2_stops_df['Text']='Routes: ' +  (Bus2_stops_df['ROUTES'])\n",
    "Bus2_stops_df=Bus2_stops_df.rename(columns={'LONGITUDE': 'Longitude', 'LATITUDE': 'Latitude'})\n",
    "\n",
    "#Bus_stops_df.head(1)"
   ]
  },
  {
   "cell_type": "code",
   "execution_count": 14,
   "metadata": {
    "collapsed": true
   },
   "outputs": [],
   "source": [
    "Bus_stops_df.to_csv('Bus_stops_df.csv', sep=',')\n",
    "Bus2_stops_df.to_csv('Metro-Bus_stops_df.csv', sep=',')"
   ]
  },
  {
   "cell_type": "code",
   "execution_count": null,
   "metadata": {
    "collapsed": true
   },
   "outputs": [],
   "source": []
  },
  {
   "cell_type": "code",
   "execution_count": null,
   "metadata": {
    "collapsed": true
   },
   "outputs": [],
   "source": []
  }
 ],
 "metadata": {
  "kernelspec": {
   "display_name": "Python 2",
   "language": "python",
   "name": "python2"
  },
  "language_info": {
   "codemirror_mode": {
    "name": "ipython",
    "version": 2
   },
   "file_extension": ".py",
   "mimetype": "text/x-python",
   "name": "python",
   "nbconvert_exporter": "python",
   "pygments_lexer": "ipython2",
   "version": "2.7.9"
  }
 },
 "nbformat": 4,
 "nbformat_minor": 0
}
