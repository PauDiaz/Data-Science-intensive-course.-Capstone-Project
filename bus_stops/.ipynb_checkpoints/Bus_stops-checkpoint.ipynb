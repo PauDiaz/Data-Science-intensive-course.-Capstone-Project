{
 "cells": [
  {
   "cell_type": "markdown",
   "metadata": {},
   "source": [
    "# Bus data preparation\n",
    "\n",
    "This script wrangles data regarding the Circulator bus and the Metro-Bus service in DC. The data is taken as CSV files from:\n",
    "\n",
    "LINK: opendata.dc.gov/datasets/e20d1dc981174440b38ac768de4eb921_54\n",
    "\n",
    "After taking the desired data the script exports the dataframe as a new CSV file.\n",
    "\n",
    "Some info about the raw data:\n",
    "\n",
    "**DC Circulator Bus Stops**. The dataset contains locations and attributes of DC Circulator Stops, created as part of the DC Geographic Information System (DC GIS) for the D.C. Office of the Chief Technology Officer (OCTO) and participating D.C. government agencies. A database provided by the District Department of Transportation identified DC Circulator Stops. DC Circulator is a local transit option that provides access between key and popular locations in the District. All DC GIS data is stored and exported in Maryland State Plane coordinates NAD 83 meters. METADATA CONTENT IS IN PROCESS OF VALIDATION AND SUBJECT TO CHANGE.\n",
    "\n",
    "**WMATA Metro Bus Stops**. The dataset contains locations and attributes of metro bus stops, created as part of the DC Geographic Information System (DC GIS) for the D.C. Office of the Chief Technology Officer (OCTO) and participating D.C. government agencies. A database provided by WMATA contains bus stop locations and attributes. All DC GIS data is stored and exported in Maryland State Plane coordinates NAD 83 meters. METADATA CONTENT IS IN PROCESS OF VALIDATION AND SUBJECT TO CHANGE."
   ]
  },
  {
   "cell_type": "code",
   "execution_count": 2,
   "metadata": {
    "collapsed": true
   },
   "outputs": [],
   "source": [
    "import pandas as pd\n",
    "import numpy as np\n"
   ]
  },
  {
   "cell_type": "code",
   "execution_count": 21,
   "metadata": {
    "collapsed": false
   },
   "outputs": [
    {
     "data": {
      "text/html": [
       "<div style=\"max-height:1000px;max-width:1500px;overflow:auto;\">\n",
       "<table border=\"1\" class=\"dataframe\">\n",
       "  <thead>\n",
       "    <tr style=\"text-align: right;\">\n",
       "      <th></th>\n",
       "      <th>﻿X</th>\n",
       "      <th>Y</th>\n",
       "      <th>OBJECTID</th>\n",
       "      <th>LATITUDE</th>\n",
       "      <th>LONGITUDE</th>\n",
       "      <th>ROUTES</th>\n",
       "    </tr>\n",
       "  </thead>\n",
       "  <tbody>\n",
       "    <tr>\n",
       "      <th>0</th>\n",
       "      <td>-77.204530</td>\n",
       "      <td> 38.831697</td>\n",
       "      <td> 2001</td>\n",
       "      <td> 38.831697</td>\n",
       "      <td>-77.204530</td>\n",
       "      <td>           16A,16B,16E,29C,29G,29K,29KV1,29N,3A</td>\n",
       "    </tr>\n",
       "    <tr>\n",
       "      <th>1</th>\n",
       "      <td>-77.166547</td>\n",
       "      <td> 38.823334</td>\n",
       "      <td> 2002</td>\n",
       "      <td> 38.823334</td>\n",
       "      <td>-77.166547</td>\n",
       "      <td>                          29C,29G,29K,29KV1,29N</td>\n",
       "    </tr>\n",
       "    <tr>\n",
       "      <th>2</th>\n",
       "      <td>-77.181217</td>\n",
       "      <td> 38.827390</td>\n",
       "      <td> 2003</td>\n",
       "      <td> 38.827390</td>\n",
       "      <td>-77.181217</td>\n",
       "      <td>                          29C,29G,29K,29KV1,29N</td>\n",
       "    </tr>\n",
       "    <tr>\n",
       "      <th>3</th>\n",
       "      <td>-77.142189</td>\n",
       "      <td> 38.817771</td>\n",
       "      <td> 2004</td>\n",
       "      <td> 38.817771</td>\n",
       "      <td>-77.142189</td>\n",
       "      <td> 17A,17B,17M,29C,29G,29K,29KV1,29N,7A,7AC,7F,7H</td>\n",
       "    </tr>\n",
       "    <tr>\n",
       "      <th>4</th>\n",
       "      <td>-77.141610</td>\n",
       "      <td> 38.817882</td>\n",
       "      <td> 2005</td>\n",
       "      <td> 38.817882</td>\n",
       "      <td>-77.141610</td>\n",
       "      <td>                                            NaN</td>\n",
       "    </tr>\n",
       "  </tbody>\n",
       "</table>\n",
       "</div>"
      ],
      "text/plain": [
       "          ﻿X          Y  OBJECTID   LATITUDE  LONGITUDE  \\\n",
       "0 -77.204530  38.831697      2001  38.831697 -77.204530   \n",
       "1 -77.166547  38.823334      2002  38.823334 -77.166547   \n",
       "2 -77.181217  38.827390      2003  38.827390 -77.181217   \n",
       "3 -77.142189  38.817771      2004  38.817771 -77.142189   \n",
       "4 -77.141610  38.817882      2005  38.817882 -77.141610   \n",
       "\n",
       "                                           ROUTES  \n",
       "0            16A,16B,16E,29C,29G,29K,29KV1,29N,3A  \n",
       "1                           29C,29G,29K,29KV1,29N  \n",
       "2                           29C,29G,29K,29KV1,29N  \n",
       "3  17A,17B,17M,29C,29G,29K,29KV1,29N,7A,7AC,7F,7H  \n",
       "4                                             NaN  "
      ]
     },
     "execution_count": 21,
     "metadata": {},
     "output_type": "execute_result"
    }
   ],
   "source": [
    "Bus_df= pd.read_csv('DC_Circulator_Stops.csv',sep=',')\n",
    "Bus2_df= pd.read_csv('Metro_Bus_Stops.csv',sep=',')\n",
    "\n",
    "Bus2_df.head()"
   ]
  },
  {
   "cell_type": "markdown",
   "metadata": {},
   "source": [
    "Let's check if there are **null values** on these data sets:"
   ]
  },
  {
   "cell_type": "code",
   "execution_count": 35,
   "metadata": {
    "collapsed": false
   },
   "outputs": [
    {
     "data": {
      "text/plain": [
       "(148, 148)"
      ]
     },
     "execution_count": 35,
     "metadata": {},
     "output_type": "execute_result"
    }
   ],
   "source": [
    "len(Bus_df[Bus_df.notnull()]), len(Bus_df)"
   ]
  },
  {
   "cell_type": "markdown",
   "metadata": {},
   "source": [
    "The Circulator Bus Stops data file does not contain null values. Let's check the file regarding the Metro-bus stops. "
   ]
  },
  {
   "cell_type": "code",
   "execution_count": 19,
   "metadata": {
    "collapsed": false
   },
   "outputs": [
    {
     "data": {
      "text/plain": [
       "(9863, 908)"
      ]
     },
     "execution_count": 19,
     "metadata": {},
     "output_type": "execute_result"
    }
   ],
   "source": [
    "len(Bus2_df[Bus2_df.ROUTES.notnull()]),len(Bus2_df[Bus2_df.ROUTES.isnull()])"
   ]
  },
  {
   "cell_type": "markdown",
   "metadata": {},
   "source": [
    "Almost a 10% of the **METRO-BUS** data **must be cleaned** as there is no info about the routes that passes through the stop. I take only the non null data:"
   ]
  },
  {
   "cell_type": "code",
   "execution_count": 36,
   "metadata": {
    "collapsed": false
   },
   "outputs": [],
   "source": [
    "Bus2_df=Bus2_df[Bus2_df.ROUTES.notnull()]"
   ]
  },
  {
   "cell_type": "markdown",
   "metadata": {},
   "source": [
    "Double check to make sure that all the NaN values are not anymore in our dataframe."
   ]
  },
  {
   "cell_type": "code",
   "execution_count": 37,
   "metadata": {
    "collapsed": false
   },
   "outputs": [
    {
     "data": {
      "text/plain": [
       "0"
      ]
     },
     "execution_count": 37,
     "metadata": {},
     "output_type": "execute_result"
    }
   ],
   "source": [
    "len(Bus2_df[Bus2_df.ROUTES.isnull()])"
   ]
  },
  {
   "cell_type": "markdown",
   "metadata": {},
   "source": [
    "Now, we take only the columns that we are interested in:"
   ]
  },
  {
   "cell_type": "code",
   "execution_count": 38,
   "metadata": {
    "collapsed": false
   },
   "outputs": [],
   "source": [
    "Bus_stops_df=Bus_df[['LINE','STOP','Y','\\xef\\xbb\\xbfX']]\n",
    "Bus2_stops_df=Bus2_df[['ROUTES','LONGITUDE','LATITUDE','OBJECTID']]"
   ]
  },
  {
   "cell_type": "markdown",
   "metadata": {},
   "source": [
    "For clarity and consistency with the others data sets, X and Y are set as Longitude and Latitude variables.\n",
    "* X and LONGITUDE = Longitude\n",
    "* Y and LATITUDE = Latitude"
   ]
  },
  {
   "cell_type": "code",
   "execution_count": 39,
   "metadata": {
    "collapsed": false,
    "scrolled": true
   },
   "outputs": [
    {
     "name": "stderr",
     "output_type": "stream",
     "text": [
      "/Users/paudiazgallifa/anaconda/lib/python2.7/site-packages/IPython/kernel/__main__.py:2: SettingWithCopyWarning: \n",
      "A value is trying to be set on a copy of a slice from a DataFrame.\n",
      "Try using .loc[row_indexer,col_indexer] = value instead\n",
      "\n",
      "See the the caveats in the documentation: http://pandas.pydata.org/pandas-docs/stable/indexing.html#indexing-view-versus-copy\n",
      "  from IPython.kernel.zmq import kernelapp as app\n",
      "/Users/paudiazgallifa/anaconda/lib/python2.7/site-packages/IPython/kernel/__main__.py:6: SettingWithCopyWarning: \n",
      "A value is trying to be set on a copy of a slice from a DataFrame.\n",
      "Try using .loc[row_indexer,col_indexer] = value instead\n",
      "\n",
      "See the the caveats in the documentation: http://pandas.pydata.org/pandas-docs/stable/indexing.html#indexing-view-versus-copy\n"
     ]
    }
   ],
   "source": [
    "#   BUS1 STOPS CIRCULATOR\n",
    "Bus_stops_df['Text']=Bus_stops_df['STOP'] + '. Line: ' +  Bus_stops_df['LINE']\n",
    "Bus_stops_df=Bus_stops_df.rename(columns={'\\xef\\xbb\\xbfX': 'Longitude', 'Y': 'Latitude'})\n",
    "\n",
    "#   BUS2 STOPS METRO-BUS\n",
    "Bus2_stops_df['Text']='Routes: ' +  (Bus2_stops_df['ROUTES'])\n",
    "Bus2_stops_df=Bus2_stops_df.rename(columns={'LONGITUDE': 'Longitude', 'LATITUDE': 'Latitude'})\n",
    "\n",
    "#Bus_stops_df.head(1)"
   ]
  },
  {
   "cell_type": "code",
   "execution_count": 40,
   "metadata": {
    "collapsed": false
   },
   "outputs": [
    {
     "data": {
      "text/html": [
       "<div style=\"max-height:1000px;max-width:1500px;overflow:auto;\">\n",
       "<table border=\"1\" class=\"dataframe\">\n",
       "  <thead>\n",
       "    <tr style=\"text-align: right;\">\n",
       "      <th></th>\n",
       "      <th>LINE</th>\n",
       "      <th>STOP</th>\n",
       "      <th>Latitude</th>\n",
       "      <th>Longitude</th>\n",
       "      <th>Text</th>\n",
       "    </tr>\n",
       "  </thead>\n",
       "  <tbody>\n",
       "    <tr>\n",
       "      <th>143</th>\n",
       "      <td>                                     National Mall</td>\n",
       "      <td>            E STREET AND COLUMBUS CIRCLE NE</td>\n",
       "      <td> 38.896434</td>\n",
       "      <td>-77.007957</td>\n",
       "      <td> E STREET AND COLUMBUS CIRCLE NE. Line: Nationa...</td>\n",
       "    </tr>\n",
       "    <tr>\n",
       "      <th>144</th>\n",
       "      <td>                         Union Station - Navy Yard</td>\n",
       "      <td>      PENNSYLVANIA AVENUE AND 7TH STREET SE</td>\n",
       "      <td> 38.884788</td>\n",
       "      <td>-76.995952</td>\n",
       "      <td> PENNSYLVANIA AVENUE AND 7TH STREET SE. Line: U...</td>\n",
       "    </tr>\n",
       "    <tr>\n",
       "      <th>145</th>\n",
       "      <td>    Woodley Park - Adams Morgan - McPherson Square</td>\n",
       "      <td>                14TH STREET AND U STREET NW</td>\n",
       "      <td> 38.917202</td>\n",
       "      <td>-77.032106</td>\n",
       "      <td> 14TH STREET AND U STREET NW. Line: Woodley Par...</td>\n",
       "    </tr>\n",
       "    <tr>\n",
       "      <th>146</th>\n",
       "      <td>    Woodley Park - Adams Morgan - McPherson Square</td>\n",
       "      <td> MOUNT PLEASANT STREET AND IRVING STREET NW</td>\n",
       "      <td> 38.928596</td>\n",
       "      <td>-77.037180</td>\n",
       "      <td> MOUNT PLEASANT STREET AND IRVING STREET NW. Li...</td>\n",
       "    </tr>\n",
       "    <tr>\n",
       "      <th>147</th>\n",
       "      <td> Georgetown - Union Station; Dupont Circle - Ro...</td>\n",
       "      <td>     PENNSYLVANIA AVENUE AND 28TH STREET NW</td>\n",
       "      <td> 38.904889</td>\n",
       "      <td>-77.057219</td>\n",
       "      <td> PENNSYLVANIA AVENUE AND 28TH STREET NW. Line: ...</td>\n",
       "    </tr>\n",
       "  </tbody>\n",
       "</table>\n",
       "</div>"
      ],
      "text/plain": [
       "                                                  LINE  \\\n",
       "143                                      National Mall   \n",
       "144                          Union Station - Navy Yard   \n",
       "145     Woodley Park - Adams Morgan - McPherson Square   \n",
       "146     Woodley Park - Adams Morgan - McPherson Square   \n",
       "147  Georgetown - Union Station; Dupont Circle - Ro...   \n",
       "\n",
       "                                           STOP   Latitude  Longitude  \\\n",
       "143             E STREET AND COLUMBUS CIRCLE NE  38.896434 -77.007957   \n",
       "144       PENNSYLVANIA AVENUE AND 7TH STREET SE  38.884788 -76.995952   \n",
       "145                 14TH STREET AND U STREET NW  38.917202 -77.032106   \n",
       "146  MOUNT PLEASANT STREET AND IRVING STREET NW  38.928596 -77.037180   \n",
       "147      PENNSYLVANIA AVENUE AND 28TH STREET NW  38.904889 -77.057219   \n",
       "\n",
       "                                                  Text  \n",
       "143  E STREET AND COLUMBUS CIRCLE NE. Line: Nationa...  \n",
       "144  PENNSYLVANIA AVENUE AND 7TH STREET SE. Line: U...  \n",
       "145  14TH STREET AND U STREET NW. Line: Woodley Par...  \n",
       "146  MOUNT PLEASANT STREET AND IRVING STREET NW. Li...  \n",
       "147  PENNSYLVANIA AVENUE AND 28TH STREET NW. Line: ...  "
      ]
     },
     "execution_count": 40,
     "metadata": {},
     "output_type": "execute_result"
    }
   ],
   "source": [
    "#Bus_stops_df.head()\n",
    "Bus_stops_df.tail()"
   ]
  },
  {
   "cell_type": "code",
   "execution_count": 41,
   "metadata": {
    "collapsed": false
   },
   "outputs": [
    {
     "data": {
      "text/html": [
       "<div style=\"max-height:1000px;max-width:1500px;overflow:auto;\">\n",
       "<table border=\"1\" class=\"dataframe\">\n",
       "  <thead>\n",
       "    <tr style=\"text-align: right;\">\n",
       "      <th></th>\n",
       "      <th>ROUTES</th>\n",
       "      <th>Longitude</th>\n",
       "      <th>Latitude</th>\n",
       "      <th>OBJECTID</th>\n",
       "      <th>Text</th>\n",
       "    </tr>\n",
       "  </thead>\n",
       "  <tbody>\n",
       "    <tr>\n",
       "      <th>10766</th>\n",
       "      <td>      86</td>\n",
       "      <td>-76.955346</td>\n",
       "      <td> 38.951954</td>\n",
       "      <td> 10369</td>\n",
       "      <td>      Routes: 86</td>\n",
       "    </tr>\n",
       "    <tr>\n",
       "      <th>10767</th>\n",
       "      <td>     W19</td>\n",
       "      <td>-77.169099</td>\n",
       "      <td> 38.598694</td>\n",
       "      <td>  9628</td>\n",
       "      <td>     Routes: W19</td>\n",
       "    </tr>\n",
       "    <tr>\n",
       "      <th>10768</th>\n",
       "      <td>      F8</td>\n",
       "      <td>-76.953121</td>\n",
       "      <td> 38.954511</td>\n",
       "      <td> 10370</td>\n",
       "      <td>      Routes: F8</td>\n",
       "    </tr>\n",
       "    <tr>\n",
       "      <th>10769</th>\n",
       "      <td>     W19</td>\n",
       "      <td>-77.157619</td>\n",
       "      <td> 38.600797</td>\n",
       "      <td>  9629</td>\n",
       "      <td>     Routes: W19</td>\n",
       "    </tr>\n",
       "    <tr>\n",
       "      <th>10770</th>\n",
       "      <td> 86,86V2</td>\n",
       "      <td>-76.956040</td>\n",
       "      <td> 38.949919</td>\n",
       "      <td> 10371</td>\n",
       "      <td> Routes: 86,86V2</td>\n",
       "    </tr>\n",
       "  </tbody>\n",
       "</table>\n",
       "</div>"
      ],
      "text/plain": [
       "        ROUTES  Longitude   Latitude  OBJECTID             Text\n",
       "10766       86 -76.955346  38.951954     10369       Routes: 86\n",
       "10767      W19 -77.169099  38.598694      9628      Routes: W19\n",
       "10768       F8 -76.953121  38.954511     10370       Routes: F8\n",
       "10769      W19 -77.157619  38.600797      9629      Routes: W19\n",
       "10770  86,86V2 -76.956040  38.949919     10371  Routes: 86,86V2"
      ]
     },
     "execution_count": 41,
     "metadata": {},
     "output_type": "execute_result"
    }
   ],
   "source": [
    "#Bus2_stops_df.head()\n",
    "Bus2_stops_df.tail()"
   ]
  },
  {
   "cell_type": "markdown",
   "metadata": {},
   "source": [
    "Finally, the dataframe is exported as a CSV file"
   ]
  },
  {
   "cell_type": "code",
   "execution_count": 42,
   "metadata": {
    "collapsed": true
   },
   "outputs": [],
   "source": [
    "Bus_stops_df.to_csv('Bus_stops_df.csv', sep=',')\n",
    "Bus2_stops_df.to_csv('Metro-Bus_stops_df.csv', sep=',')"
   ]
  }
 ],
 "metadata": {
  "kernelspec": {
   "display_name": "Python 2",
   "language": "python",
   "name": "python2"
  },
  "language_info": {
   "codemirror_mode": {
    "name": "ipython",
    "version": 2
   },
   "file_extension": ".py",
   "mimetype": "text/x-python",
   "name": "python",
   "nbconvert_exporter": "python",
   "pygments_lexer": "ipython2",
   "version": "2.7.10"
  }
 },
 "nbformat": 4,
 "nbformat_minor": 0
}
