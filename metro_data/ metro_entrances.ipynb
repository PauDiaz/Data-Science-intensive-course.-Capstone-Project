{
 "cells": [
  {
   "cell_type": "markdown",
   "metadata": {},
   "source": [
    "# Metro data preparation\n",
    "\n",
    "This script wrangles data regarding the metro entrances in DC. The data is taken as CSV files from:\n",
    "\n",
    "LINK: opendata.dc.gov/datasets/efad2a2696164d2db65e6c16d426939e_95\n",
    "\n",
    "After taking the desired data the script exports the dataframe as a new CSV file.\n",
    "\n",
    "Some info about the raw data:\n",
    "\n",
    "**Metro Station Entrances**. This dataset contains points representing Metro facilities, created as part of the DC Geographic Information System (DC GIS) for the D.C. Office of the Chief Technology Officer (OCTO) and participating D.C. government agencies. Station centroids were identified from visual observation of orthophotography and extracted from the planimetric data and a centroid for each entrance was heads-up digitized from the snapbase.\n"
   ]
  },
  {
   "cell_type": "code",
   "execution_count": 1,
   "metadata": {
    "collapsed": true
   },
   "outputs": [],
   "source": [
    "import pandas as pd\n",
    "import numpy as np"
   ]
  },
  {
   "cell_type": "markdown",
   "metadata": {},
   "source": [
    "Read the data:"
   ]
  },
  {
   "cell_type": "code",
   "execution_count": 2,
   "metadata": {
    "collapsed": true
   },
   "outputs": [],
   "source": [
    "metro_entrance_df= pd.read_csv('Metro_Station_Entrances.csv',sep=',')"
   ]
  },
  {
   "cell_type": "markdown",
   "metadata": {},
   "source": [
    "Check if there are **null values** in this data set:"
   ]
  },
  {
   "cell_type": "code",
   "execution_count": 3,
   "metadata": {
    "collapsed": false
   },
   "outputs": [
    {
     "data": {
      "text/plain": [
       "(88, 88)"
      ]
     },
     "execution_count": 3,
     "metadata": {},
     "output_type": "execute_result"
    }
   ],
   "source": [
    "len(metro_entrance_df[metro_entrance_df.notnull()]), len(metro_entrance_df)"
   ]
  },
  {
   "cell_type": "markdown",
   "metadata": {},
   "source": [
    "The Metro_Station_Entrances.csv data file does not contain NaN values. \n",
    "\n",
    "We proceed by picking up the columns that we are interested in:"
   ]
  },
  {
   "cell_type": "code",
   "execution_count": 4,
   "metadata": {
    "collapsed": false
   },
   "outputs": [
    {
     "data": {
      "text/plain": [
       "['\\xef\\xbb\\xbfX',\n",
       " 'Y',\n",
       " 'OBJECTID_1',\n",
       " 'GIS_ID',\n",
       " 'NAME',\n",
       " 'WEB_URL',\n",
       " 'EXIT_TO_ST',\n",
       " 'FEATURECOD',\n",
       " 'DESCRIPTIO',\n",
       " 'CAPTUREYEA',\n",
       " 'LINE',\n",
       " 'ADDRESS_ID']"
      ]
     },
     "execution_count": 4,
     "metadata": {},
     "output_type": "execute_result"
    }
   ],
   "source": [
    "isa=[]\n",
    "for i in metro_entrance_df:\n",
    "    isa.append(i)\n",
    "isa"
   ]
  },
  {
   "cell_type": "code",
   "execution_count": 5,
   "metadata": {
    "collapsed": false
   },
   "outputs": [
    {
     "data": {
      "text/html": [
       "<div style=\"max-height:1000px;max-width:1500px;overflow:auto;\">\n",
       "<table border=\"1\" class=\"dataframe\">\n",
       "  <thead>\n",
       "    <tr style=\"text-align: right;\">\n",
       "      <th></th>\n",
       "      <th>NAME</th>\n",
       "      <th>LINE</th>\n",
       "      <th>Y</th>\n",
       "      <th>﻿X</th>\n",
       "    </tr>\n",
       "  </thead>\n",
       "  <tbody>\n",
       "    <tr>\n",
       "      <th>0</th>\n",
       "      <td>      Dupont Circle</td>\n",
       "      <td>    red</td>\n",
       "      <td> 38.908683</td>\n",
       "      <td>-77.043319</td>\n",
       "    </tr>\n",
       "    <tr>\n",
       "      <th>1</th>\n",
       "      <td> Friendship Heights</td>\n",
       "      <td>    red</td>\n",
       "      <td> 38.960453</td>\n",
       "      <td>-77.085765</td>\n",
       "    </tr>\n",
       "    <tr>\n",
       "      <th>2</th>\n",
       "      <td>    Brookland | CUA</td>\n",
       "      <td>    red</td>\n",
       "      <td> 38.933834</td>\n",
       "      <td>-76.995045</td>\n",
       "    </tr>\n",
       "    <tr>\n",
       "      <th>3</th>\n",
       "      <td>           Deanwood</td>\n",
       "      <td> orange</td>\n",
       "      <td> 38.908268</td>\n",
       "      <td>-76.934723</td>\n",
       "    </tr>\n",
       "    <tr>\n",
       "      <th>4</th>\n",
       "      <td>           Deanwood</td>\n",
       "      <td> orange</td>\n",
       "      <td> 38.908561</td>\n",
       "      <td>-76.935172</td>\n",
       "    </tr>\n",
       "  </tbody>\n",
       "</table>\n",
       "</div>"
      ],
      "text/plain": [
       "                 NAME    LINE          Y         ﻿X\n",
       "0       Dupont Circle     red  38.908683 -77.043319\n",
       "1  Friendship Heights     red  38.960453 -77.085765\n",
       "2     Brookland | CUA     red  38.933834 -76.995045\n",
       "3            Deanwood  orange  38.908268 -76.934723\n",
       "4            Deanwood  orange  38.908561 -76.935172"
      ]
     },
     "execution_count": 5,
     "metadata": {},
     "output_type": "execute_result"
    }
   ],
   "source": [
    "metro_entrance_df=metro_entrance_df[['NAME','LINE','Y','\\xef\\xbb\\xbfX']]\n",
    "metro_entrance_df.head()"
   ]
  },
  {
   "cell_type": "markdown",
   "metadata": {
    "collapsed": true
   },
   "source": [
    "For clarity and consistency with the others data sets, X and Y are set as Longitude and Latitude variables.\n",
    "* X = Longitude\n",
    "* Y = Latitude"
   ]
  },
  {
   "cell_type": "code",
   "execution_count": 6,
   "metadata": {
    "collapsed": false
   },
   "outputs": [
    {
     "data": {
      "text/html": [
       "<div style=\"max-height:1000px;max-width:1500px;overflow:auto;\">\n",
       "<table border=\"1\" class=\"dataframe\">\n",
       "  <thead>\n",
       "    <tr style=\"text-align: right;\">\n",
       "      <th></th>\n",
       "      <th>NAME</th>\n",
       "      <th>LINE</th>\n",
       "      <th>Latitude</th>\n",
       "      <th>Longitude</th>\n",
       "      <th>Text</th>\n",
       "    </tr>\n",
       "  </thead>\n",
       "  <tbody>\n",
       "    <tr>\n",
       "      <th>0</th>\n",
       "      <td>      Dupont Circle</td>\n",
       "      <td>    red</td>\n",
       "      <td> 38.908683</td>\n",
       "      <td>-77.043319</td>\n",
       "      <td>      Dupont Circle. Line: red</td>\n",
       "    </tr>\n",
       "    <tr>\n",
       "      <th>1</th>\n",
       "      <td> Friendship Heights</td>\n",
       "      <td>    red</td>\n",
       "      <td> 38.960453</td>\n",
       "      <td>-77.085765</td>\n",
       "      <td> Friendship Heights. Line: red</td>\n",
       "    </tr>\n",
       "    <tr>\n",
       "      <th>2</th>\n",
       "      <td>    Brookland | CUA</td>\n",
       "      <td>    red</td>\n",
       "      <td> 38.933834</td>\n",
       "      <td>-76.995045</td>\n",
       "      <td>    Brookland | CUA. Line: red</td>\n",
       "    </tr>\n",
       "    <tr>\n",
       "      <th>3</th>\n",
       "      <td>           Deanwood</td>\n",
       "      <td> orange</td>\n",
       "      <td> 38.908268</td>\n",
       "      <td>-76.934723</td>\n",
       "      <td>        Deanwood. Line: orange</td>\n",
       "    </tr>\n",
       "    <tr>\n",
       "      <th>4</th>\n",
       "      <td>           Deanwood</td>\n",
       "      <td> orange</td>\n",
       "      <td> 38.908561</td>\n",
       "      <td>-76.935172</td>\n",
       "      <td>        Deanwood. Line: orange</td>\n",
       "    </tr>\n",
       "  </tbody>\n",
       "</table>\n",
       "</div>"
      ],
      "text/plain": [
       "                 NAME    LINE   Latitude  Longitude  \\\n",
       "0       Dupont Circle     red  38.908683 -77.043319   \n",
       "1  Friendship Heights     red  38.960453 -77.085765   \n",
       "2     Brookland | CUA     red  38.933834 -76.995045   \n",
       "3            Deanwood  orange  38.908268 -76.934723   \n",
       "4            Deanwood  orange  38.908561 -76.935172   \n",
       "\n",
       "                            Text  \n",
       "0       Dupont Circle. Line: red  \n",
       "1  Friendship Heights. Line: red  \n",
       "2     Brookland | CUA. Line: red  \n",
       "3         Deanwood. Line: orange  \n",
       "4         Deanwood. Line: orange  "
      ]
     },
     "execution_count": 6,
     "metadata": {},
     "output_type": "execute_result"
    }
   ],
   "source": [
    "#   METRO ENTRANCES\n",
    "metro_entrance_df['Text']=metro_entrance_df['NAME'] + '. Line: ' +  metro_entrance_df['LINE']\n",
    "metro_entrance_df=metro_entrance_df.rename(columns={'\\xef\\xbb\\xbfX': 'Longitude', 'Y': 'Latitude'})\n",
    "metro_entrance_df.head()"
   ]
  },
  {
   "cell_type": "markdown",
   "metadata": {},
   "source": [
    "Finally, the dataframe is exported as a CSV file"
   ]
  },
  {
   "cell_type": "code",
   "execution_count": 8,
   "metadata": {
    "collapsed": true
   },
   "outputs": [],
   "source": [
    "metro_entrance_df.to_csv('Metro_entrance_coordinates.csv', sep=',')"
   ]
  }
 ],
 "metadata": {
  "kernelspec": {
   "display_name": "Python 2",
   "language": "python",
   "name": "python2"
  },
  "language_info": {
   "codemirror_mode": {
    "name": "ipython",
    "version": 2
   },
   "file_extension": ".py",
   "mimetype": "text/x-python",
   "name": "python",
   "nbconvert_exporter": "python",
   "pygments_lexer": "ipython2",
   "version": "2.7.10"
  }
 },
 "nbformat": 4,
 "nbformat_minor": 0
}
