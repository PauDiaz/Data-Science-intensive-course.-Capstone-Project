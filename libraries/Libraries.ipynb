{
 "cells": [
  {
   "cell_type": "markdown",
   "metadata": {},
   "source": [
    "# Library data preparation "
   ]
  },
  {
   "cell_type": "code",
   "execution_count": 1,
   "metadata": {
    "collapsed": true
   },
   "outputs": [],
   "source": [
    "import pandas as pd\n",
    "import numpy as np\n"
   ]
  },
  {
   "cell_type": "markdown",
   "metadata": {},
   "source": [
    "This dataset contains contains points representing locations of public libraries, created as part of the DC Geographic Information System (DC GIS) for the D.C. Office of the Chief Technology Officer (OCTO) and participating D.C. government agencies.\n",
    "\n",
    "http://opendata.dc.gov/datasets/cab0eaaad4e242c18a36422c3323e6ac_4\n"
   ]
  },
  {
   "cell_type": "code",
   "execution_count": 2,
   "metadata": {
    "collapsed": false
   },
   "outputs": [],
   "source": [
    "libraries_df= pd.read_csv('Libraries.csv',sep=',')\n"
   ]
  },
  {
   "cell_type": "code",
   "execution_count": 3,
   "metadata": {
    "collapsed": false
   },
   "outputs": [],
   "source": [
    "libraries_df=libraries_df[['NAME','STATUS','Y','\\xef\\xbb\\xbfX']]"
   ]
  },
  {
   "cell_type": "markdown",
   "metadata": {
    "collapsed": true
   },
   "source": [
    "For clarity and consistency with the others data sets, X and Y are set as Longitude and Latitude variables.\n",
    "* X = Longitude\n",
    "* Y = Latitude"
   ]
  },
  {
   "cell_type": "code",
   "execution_count": 4,
   "metadata": {
    "collapsed": false
   },
   "outputs": [
    {
     "data": {
      "text/html": [
       "<div style=\"max-height:1000px;max-width:1500px;overflow:auto;\">\n",
       "<table border=\"1\" class=\"dataframe\">\n",
       "  <thead>\n",
       "    <tr style=\"text-align: right;\">\n",
       "      <th></th>\n",
       "      <th>NAME</th>\n",
       "      <th>STATUS</th>\n",
       "      <th>Latitude</th>\n",
       "      <th>Longitude</th>\n",
       "      <th>Text</th>\n",
       "    </tr>\n",
       "  </thead>\n",
       "  <tbody>\n",
       "    <tr>\n",
       "      <th>0</th>\n",
       "      <td>             Rosedale Neighborhood Library</td>\n",
       "      <td> Open</td>\n",
       "      <td> 38.897861</td>\n",
       "      <td>-76.979329</td>\n",
       "      <td>       Rosedale Neighborhood Library. Status: Open</td>\n",
       "    </tr>\n",
       "    <tr>\n",
       "      <th>1</th>\n",
       "      <td>           Georgetown Neighborhood Library</td>\n",
       "      <td> Open</td>\n",
       "      <td> 38.913442</td>\n",
       "      <td>-77.066010</td>\n",
       "      <td>     Georgetown Neighborhood Library. Status: Open</td>\n",
       "    </tr>\n",
       "    <tr>\n",
       "      <th>2</th>\n",
       "      <td>             Petworth Neighborhood Library</td>\n",
       "      <td> Open</td>\n",
       "      <td> 38.942208</td>\n",
       "      <td>-77.026140</td>\n",
       "      <td>       Petworth Neighborhood Library. Status: Open</td>\n",
       "    </tr>\n",
       "    <tr>\n",
       "      <th>3</th>\n",
       "      <td>         Mt. Pleasant Neighborhood Library</td>\n",
       "      <td> Open</td>\n",
       "      <td> 38.930475</td>\n",
       "      <td>-77.037148</td>\n",
       "      <td>   Mt. Pleasant Neighborhood Library. Status: Open</td>\n",
       "    </tr>\n",
       "    <tr>\n",
       "      <th>4</th>\n",
       "      <td> Watha T. Daniel/Shaw Neighborhood Library</td>\n",
       "      <td> Open</td>\n",
       "      <td> 38.912465</td>\n",
       "      <td>-77.022215</td>\n",
       "      <td> Watha T. Daniel/Shaw Neighborhood Library. Sta...</td>\n",
       "    </tr>\n",
       "  </tbody>\n",
       "</table>\n",
       "</div>"
      ],
      "text/plain": [
       "                                        NAME STATUS   Latitude  Longitude  \\\n",
       "0              Rosedale Neighborhood Library   Open  38.897861 -76.979329   \n",
       "1            Georgetown Neighborhood Library   Open  38.913442 -77.066010   \n",
       "2              Petworth Neighborhood Library   Open  38.942208 -77.026140   \n",
       "3          Mt. Pleasant Neighborhood Library   Open  38.930475 -77.037148   \n",
       "4  Watha T. Daniel/Shaw Neighborhood Library   Open  38.912465 -77.022215   \n",
       "\n",
       "                                                Text  \n",
       "0        Rosedale Neighborhood Library. Status: Open  \n",
       "1      Georgetown Neighborhood Library. Status: Open  \n",
       "2        Petworth Neighborhood Library. Status: Open  \n",
       "3    Mt. Pleasant Neighborhood Library. Status: Open  \n",
       "4  Watha T. Daniel/Shaw Neighborhood Library. Sta...  "
      ]
     },
     "execution_count": 4,
     "metadata": {},
     "output_type": "execute_result"
    }
   ],
   "source": [
    "#   LIBRARIES\n",
    "libraries_df['Text']= libraries_df['NAME'] + '. Status: ' + libraries_df['STATUS']\n",
    "libraries_df=libraries_df.rename(columns={'\\xef\\xbb\\xbfX': 'Longitude', 'Y': 'Latitude'})\n",
    "libraries_df.head()"
   ]
  },
  {
   "cell_type": "code",
   "execution_count": 5,
   "metadata": {
    "collapsed": true
   },
   "outputs": [],
   "source": [
    "libraries_df.to_csv('Libraries_coordinates', sep=',')"
   ]
  }
 ],
 "metadata": {
  "kernelspec": {
   "display_name": "Python 2",
   "language": "python",
   "name": "python2"
  },
  "language_info": {
   "codemirror_mode": {
    "name": "ipython",
    "version": 2
   },
   "file_extension": ".py",
   "mimetype": "text/x-python",
   "name": "python",
   "nbconvert_exporter": "python",
   "pygments_lexer": "ipython2",
   "version": "2.7.9"
  }
 },
 "nbformat": 4,
 "nbformat_minor": 0
}
